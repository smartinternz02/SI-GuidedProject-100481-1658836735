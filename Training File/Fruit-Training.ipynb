{
 "cells": [
  {
   "cell_type": "markdown",
   "id": "8a1bc219",
   "metadata": {},
   "source": [
    "# Image Preprocessing"
   ]
  },
  {
   "cell_type": "code",
   "execution_count": 1,
   "id": "0916dd66",
   "metadata": {},
   "outputs": [],
   "source": [
    "from keras.preprocessing.image import ImageDataGenerator\n",
    "train_datagen=ImageDataGenerator(rescale=1./255,shear_range=0.2,zoom_range=0.2,horizontal_flip=True)\n",
    "test_datagen=ImageDataGenerator(rescale=1./255)"
   ]
  },
  {
   "cell_type": "code",
   "execution_count": 2,
   "id": "5c69b58a",
   "metadata": {},
   "outputs": [
    {
     "name": "stdout",
     "output_type": "stream",
     "text": [
      "Found 5384 images belonging to 6 classes.\n",
      "Found 1686 images belonging to 6 classes.\n"
     ]
    }
   ],
   "source": [
    "x_train = train_datagen.flow_from_directory('C:/Users/SRT/Desktop/Project/Dataset Plant Disease/fruit-dataset/fruit-dataset/train',target_size = (128,128),batch_size=8,class_mode = 'categorical')\n",
    "x_test = test_datagen.flow_from_directory('C:/Users/SRT/Desktop/Project/Dataset Plant Disease/fruit-dataset/fruit-dataset/test',target_size = (128,128),batch_size=8,class_mode = 'categorical')"
   ]
  },
  {
   "cell_type": "code",
   "execution_count": 3,
   "id": "a8d42533",
   "metadata": {},
   "outputs": [
    {
     "data": {
      "text/plain": [
       "{'Apple___Black_rot': 0,\n",
       " 'Apple___healthy': 1,\n",
       " 'Corn_(maize)___Northern_Leaf_Blight': 2,\n",
       " 'Corn_(maize)___healthy': 3,\n",
       " 'Peach___Bacterial_spot': 4,\n",
       " 'Peach___healthy': 5}"
      ]
     },
     "execution_count": 3,
     "metadata": {},
     "output_type": "execute_result"
    }
   ],
   "source": [
    "x_train.class_indices"
   ]
  },
  {
   "cell_type": "code",
   "execution_count": 4,
   "id": "10d6b097",
   "metadata": {},
   "outputs": [
    {
     "data": {
      "text/plain": [
       "{'Apple___Black_rot': 0,\n",
       " 'Apple___healthy': 1,\n",
       " 'Corn_(maize)___Northern_Leaf_Blight': 2,\n",
       " 'Corn_(maize)___healthy': 3,\n",
       " 'Peach___Bacterial_spot': 4,\n",
       " 'Peach___healthy': 5}"
      ]
     },
     "execution_count": 4,
     "metadata": {},
     "output_type": "execute_result"
    }
   ],
   "source": [
    "x_test.class_indices"
   ]
  },
  {
   "cell_type": "markdown",
   "id": "1590d029",
   "metadata": {},
   "source": [
    "# Importing Libraries"
   ]
  },
  {
   "cell_type": "code",
   "execution_count": 5,
   "id": "c26bda2d",
   "metadata": {},
   "outputs": [],
   "source": [
    "from keras.models import Sequential\n",
    "from keras.layers import Dense\n",
    "from keras.layers import Convolution2D\n",
    "from keras.layers import MaxPooling2D\n",
    "from keras.layers import Flatten"
   ]
  },
  {
   "cell_type": "markdown",
   "id": "a21f3578",
   "metadata": {},
   "source": [
    "# Initializing the model"
   ]
  },
  {
   "cell_type": "code",
   "execution_count": 6,
   "id": "f9058d0e",
   "metadata": {},
   "outputs": [],
   "source": [
    "model=Sequential()"
   ]
  },
  {
   "cell_type": "markdown",
   "id": "e100b793",
   "metadata": {},
   "source": [
    "# Adding CNN Layers"
   ]
  },
  {
   "cell_type": "code",
   "execution_count": 7,
   "id": "66c7afc6",
   "metadata": {},
   "outputs": [
    {
     "name": "stdout",
     "output_type": "stream",
     "text": [
      "Model: \"sequential\"\n",
      "_________________________________________________________________\n",
      " Layer (type)                Output Shape              Param #   \n",
      "=================================================================\n",
      " conv2d (Conv2D)             (None, 126, 126, 32)      896       \n",
      "                                                                 \n",
      " max_pooling2d (MaxPooling2D  (None, 63, 63, 32)       0         \n",
      " )                                                               \n",
      "                                                                 \n",
      " flatten (Flatten)           (None, 127008)            0         \n",
      "                                                                 \n",
      "=================================================================\n",
      "Total params: 896\n",
      "Trainable params: 896\n",
      "Non-trainable params: 0\n",
      "_________________________________________________________________\n"
     ]
    }
   ],
   "source": [
    "model.add(Convolution2D(32,(3,3),input_shape=(128,128,3),activation='relu'))\n",
    "model.add(MaxPooling2D(pool_size=(2,2)))\n",
    "model.add(Flatten())\n",
    "model.summary()"
   ]
  },
  {
   "cell_type": "markdown",
   "id": "31e77e33",
   "metadata": {},
   "source": [
    "# Adding Dense Layers"
   ]
  },
  {
   "cell_type": "code",
   "execution_count": 8,
   "id": "48f320bb",
   "metadata": {},
   "outputs": [],
   "source": [
    "model.add(Dense(40,activation='relu'))\n",
    "model.add(Dense(20,activation='relu'))\n",
    "model.add(Dense(6,activation='softmax'))"
   ]
  },
  {
   "cell_type": "markdown",
   "id": "215911ec",
   "metadata": {},
   "source": [
    "# Compile the model"
   ]
  },
  {
   "cell_type": "code",
   "execution_count": 9,
   "id": "07091eb7",
   "metadata": {},
   "outputs": [],
   "source": [
    "model.compile(loss='categorical_crossentropy',optimizer='adam',metrics=['accuracy'])"
   ]
  },
  {
   "cell_type": "markdown",
   "id": "4225b399",
   "metadata": {},
   "source": [
    "# Fit & Save the model"
   ]
  },
  {
   "cell_type": "code",
   "execution_count": 10,
   "id": "f338ea9b",
   "metadata": {},
   "outputs": [
    {
     "name": "stdout",
     "output_type": "stream",
     "text": [
      "Epoch 1/10\n"
     ]
    },
    {
     "name": "stderr",
     "output_type": "stream",
     "text": [
      "C:\\Users\\SRT\\AppData\\Local\\Temp\\ipykernel_5992\\1582812018.py:1: UserWarning: `Model.fit_generator` is deprecated and will be removed in a future version. Please use `Model.fit`, which supports generators.\n",
      "  model.fit_generator(x_train,steps_per_epoch=len(x_train),validation_data=x_test,validation_steps=len(x_test),epochs=10)\n"
     ]
    },
    {
     "name": "stdout",
     "output_type": "stream",
     "text": [
      "673/673 [==============================] - 102s 150ms/step - loss: 0.6724 - accuracy: 0.7981 - val_loss: 0.3418 - val_accuracy: 0.8826\n",
      "Epoch 2/10\n",
      "673/673 [==============================] - 119s 177ms/step - loss: 0.2896 - accuracy: 0.9047 - val_loss: 0.3573 - val_accuracy: 0.8968\n",
      "Epoch 3/10\n",
      "673/673 [==============================] - 93s 139ms/step - loss: 0.2227 - accuracy: 0.9246 - val_loss: 0.1992 - val_accuracy: 0.9383\n",
      "Epoch 4/10\n",
      "673/673 [==============================] - 91s 135ms/step - loss: 0.1937 - accuracy: 0.9315 - val_loss: 0.2791 - val_accuracy: 0.9152\n",
      "Epoch 5/10\n",
      "673/673 [==============================] - 103s 154ms/step - loss: 0.1696 - accuracy: 0.9456 - val_loss: 0.2423 - val_accuracy: 0.9217\n",
      "Epoch 6/10\n",
      "673/673 [==============================] - 93s 138ms/step - loss: 0.1666 - accuracy: 0.9452 - val_loss: 0.1918 - val_accuracy: 0.9425\n",
      "Epoch 7/10\n",
      "673/673 [==============================] - 101s 149ms/step - loss: 0.1907 - accuracy: 0.9335 - val_loss: 0.2243 - val_accuracy: 0.9353\n",
      "Epoch 8/10\n",
      "673/673 [==============================] - 113s 168ms/step - loss: 0.1537 - accuracy: 0.9521 - val_loss: 0.1775 - val_accuracy: 0.9460\n",
      "Epoch 9/10\n",
      "673/673 [==============================] - 102s 152ms/step - loss: 0.0958 - accuracy: 0.9662 - val_loss: 0.1119 - val_accuracy: 0.9650\n",
      "Epoch 10/10\n",
      "673/673 [==============================] - 114s 169ms/step - loss: 0.1267 - accuracy: 0.9591 - val_loss: 0.1949 - val_accuracy: 0.9526\n"
     ]
    },
    {
     "data": {
      "text/plain": [
       "<keras.callbacks.History at 0x5ec20db8b0>"
      ]
     },
     "execution_count": 10,
     "metadata": {},
     "output_type": "execute_result"
    }
   ],
   "source": [
    "model.fit_generator(x_train,steps_per_epoch=len(x_train),validation_data=x_test,validation_steps=len(x_test),epochs=10)"
   ]
  },
  {
   "cell_type": "code",
   "execution_count": 11,
   "id": "7331ca42",
   "metadata": {},
   "outputs": [],
   "source": [
    "model.save(\"fruit.h5\")"
   ]
  },
  {
   "cell_type": "code",
   "execution_count": null,
   "id": "9d6939b5",
   "metadata": {},
   "outputs": [],
   "source": []
  }
 ],
 "metadata": {
  "kernelspec": {
   "display_name": "Python 3 (ipykernel)",
   "language": "python",
   "name": "python3"
  },
  "language_info": {
   "codemirror_mode": {
    "name": "ipython",
    "version": 3
   },
   "file_extension": ".py",
   "mimetype": "text/x-python",
   "name": "python",
   "nbconvert_exporter": "python",
   "pygments_lexer": "ipython3",
   "version": "3.9.12"
  }
 },
 "nbformat": 4,
 "nbformat_minor": 5
}
